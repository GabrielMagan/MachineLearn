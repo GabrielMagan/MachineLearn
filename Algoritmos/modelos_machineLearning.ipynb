{
 "cells": [
  {
   "cell_type": "code",
   "execution_count": 1,
   "id": "5ff6f510",
   "metadata": {},
   "outputs": [],
   "source": [
    "import pandas as pd\n",
    "from numpy import random\n",
    "import numpy as np\n",
    "from imblearn.over_sampling import SMOTE\n",
    "from sklearn.preprocessing import StandardScaler\n",
    "from sklearn.model_selection import train_test_split\n",
    "from sklearn.ensemble import RandomForestClassifier\n",
    "from sklearn.neighbors import KNeighborsClassifier\n",
    "from sklearn.tree import DecisionTreeClassifier\n",
    "from sklearn.naive_bayes import BernoulliNB\n",
    "from sklearn.linear_model import LogisticRegression\n",
    "from sklearn.metrics import accuracy_score\n",
    "from sklearn.metrics import precision_score\n",
    "from sklearn.metrics import recall_score"
   ]
  },
  {
   "cell_type": "code",
   "execution_count": 2,
   "id": "466e2760",
   "metadata": {},
   "outputs": [],
   "source": [
    "SEED = 12345\n",
    "\n",
    "random.seed(SEED)\n",
    "\n",
    "dados = pd.read_csv('Customer-Churn.csv')\n",
    "\n",
    "traducao = {'Sim': 1, 'Nao': 0}"
   ]
  },
  {
   "cell_type": "code",
   "execution_count": 3,
   "id": "04df7837",
   "metadata": {},
   "outputs": [],
   "source": [
    "dados1 = dados[['Conjuge', 'Dependentes', 'TelefoneFixo', 'PagamentoOnline', 'Churn']].replace(traducao)\n",
    "\n",
    "dummie = pd.get_dummies(dados.drop(['Conjuge', 'Dependentes', 'TelefoneFixo', 'PagamentoOnline', 'Churn'],axis=1))\n",
    "\n",
    "dados_fn = pd.concat([dados1, dummie], axis=1)"
   ]
  },
  {
   "cell_type": "code",
   "execution_count": 4,
   "id": "8682b623",
   "metadata": {},
   "outputs": [],
   "source": [
    "x = dados_fn.drop('Churn', axis = 1)\n",
    "y = dados_fn['Churn']\n",
    "\n",
    "smt = SMOTE(random_state=SEED)\n",
    "\n",
    "x, y = smt.fit_resample(x, y)\n",
    "\n",
    "dados_fn = pd.concat([x, y], axis=1)"
   ]
  },
  {
   "cell_type": "code",
   "execution_count": 5,
   "id": "a82e296a",
   "metadata": {},
   "outputs": [],
   "source": [
    "x = dados_fn.drop('Churn', axis = 1)\n",
    "y = dados_fn['Churn']\n",
    "\n",
    "norm = StandardScaler()\n",
    "\n",
    "x = norm.fit_transform(x)"
   ]
  },
  {
   "cell_type": "code",
   "execution_count": 6,
   "id": "79c85ab5",
   "metadata": {},
   "outputs": [],
   "source": [
    "treinox, testex, treinoy, testey = train_test_split(x, y, test_size=0.3)"
   ]
  },
  {
   "cell_type": "code",
   "execution_count": 7,
   "id": "319fc6bd",
   "metadata": {},
   "outputs": [],
   "source": [
    "def algoritmo_KNeighborsClassifier(x,y,teste):\n",
    "    knn = KNeighborsClassifier(metric='euclidean')\n",
    "    knn.fit(x, y)\n",
    "    valor_knn = knn.predict(teste)\n",
    "    return valor_knn\n",
    "\n",
    "def algoritmo_randomforest(x,y,teste):\n",
    "    rfc = RandomForestClassifier(n_estimators = 200)\n",
    "    rfc.fit(x, y)\n",
    "    valor_rfc = rfc.predict(teste)\n",
    "    return valor_rfc\n",
    "\n",
    "def algoritmo_arvore(x,y,teste):\n",
    "    dtc = DecisionTreeClassifier(criterion='entropy', random_state=42)\n",
    "    dtc.fit(x, y)\n",
    "    valor_dtc = dtc.predict(teste)\n",
    "    return valor_dtc\n",
    "\n",
    "def algoritmo_bernoulli(x,y,teste):\n",
    "    bnb = BernoulliNB(binarize=np.median(x))\n",
    "    bnb.fit(x, y)\n",
    "    valor_bnb = bnb.predict(teste)\n",
    "    return valor_bnb\n",
    "\n",
    "def algoritmo_ReLogi(x,y,teste):\n",
    "    clf = LogisticRegression(random_state=SEED, max_iter=10000)\n",
    "    clf.fit(x, y)\n",
    "    valor_clf = clf.predict(teste)\n",
    "    return valor_clf"
   ]
  },
  {
   "cell_type": "code",
   "execution_count": 8,
   "id": "a25dd98f",
   "metadata": {},
   "outputs": [],
   "source": [
    "modelos = [\"KNeighborsClassifier\",\"RandomForestClassifier\",\"DecisionTreeClassifier\",\"BernoulliNB\",\"LogisticRegression\"]"
   ]
  },
  {
   "cell_type": "code",
   "execution_count": 9,
   "id": "b6a5e352",
   "metadata": {},
   "outputs": [],
   "source": [
    "valor_knn = algoritmo_KNeighborsClassifier(treinox,treinoy,testex)\n",
    "valor_rfc = algoritmo_randomforest(treinox,treinoy,testex)\n",
    "valor_dtc = algoritmo_arvore(treinox,treinoy,testex)\n",
    "valor_bnb = algoritmo_bernoulli(treinox,treinoy,testex)\n",
    "valor_clf = algoritmo_ReLogi(treinox,treinoy,testex)"
   ]
  },
  {
   "cell_type": "code",
   "execution_count": 10,
   "id": "2d57d499",
   "metadata": {
    "scrolled": true
   },
   "outputs": [
    {
     "name": "stdout",
     "output_type": "stream",
     "text": [
      "Accuracy:\n",
      "81.51 % Modelo KNeighborsClassifier\n",
      "85.09 % Modelo RandomForestClassifier\n",
      "80.35 % Modelo DecisionTreeClassifier\n",
      "75.81 % Modelo BernoulliNB\n",
      "84.51 % Modelo LogisticRegression\n"
     ]
    }
   ],
   "source": [
    "print(\"Accuracy:\")\n",
    "\n",
    "print(round(accuracy_score(testey, valor_knn)*100,2), \"%\", f\"Modelo {modelos[0]}\")\n",
    "print(round(accuracy_score(testey, valor_rfc)*100,2), \"%\", f\"Modelo {modelos[1]}\")\n",
    "print(round(accuracy_score(testey, valor_dtc)*100,2), \"%\", f\"Modelo {modelos[2]}\")\n",
    "print(round(accuracy_score(testey, valor_bnb)*100,2), \"%\", f\"Modelo {modelos[3]}\")\n",
    "print(round(accuracy_score(testey, valor_clf)*100,2), \"%\", f\"Modelo {modelos[4]}\")"
   ]
  },
  {
   "cell_type": "code",
   "execution_count": 11,
   "id": "789329ba",
   "metadata": {},
   "outputs": [
    {
     "name": "stdout",
     "output_type": "stream",
     "text": [
      "Precision:\n",
      "80.61 % Modelo KNeighborsClassifier\n",
      "86.18 % Modelo RandomForestClassifier\n",
      "80.56 % Modelo DecisionTreeClassifier\n",
      "72.24 % Modelo BernoulliNB\n",
      "85.27 % Modelo LogisticRegression\n"
     ]
    }
   ],
   "source": [
    "print(\"Precision:\")\n",
    "\n",
    "print(round(precision_score(testey, valor_knn)*100,2), \"%\", f\"Modelo {modelos[0]}\")\n",
    "print(round(precision_score(testey, valor_rfc)*100,2), \"%\", f\"Modelo {modelos[1]}\")\n",
    "print(round(precision_score(testey, valor_dtc)*100,2), \"%\", f\"Modelo {modelos[2]}\")\n",
    "print(round(precision_score(testey, valor_bnb)*100,2), \"%\", f\"Modelo {modelos[3]}\")\n",
    "print(round(precision_score(testey, valor_clf)*100,2), \"%\", f\"Modelo {modelos[4]}\")\n"
   ]
  },
  {
   "cell_type": "code",
   "execution_count": 12,
   "id": "ffa4052f",
   "metadata": {},
   "outputs": [
    {
     "name": "stdout",
     "output_type": "stream",
     "text": [
      "Recall:\n",
      "83.78 % Modelo KNeighborsClassifier\n",
      "84.16 % Modelo RandomForestClassifier\n",
      "80.86 % Modelo DecisionTreeClassifier\n",
      "85.11 % Modelo BernoulliNB\n",
      "84.03 % Modelo LogisticRegression\n"
     ]
    }
   ],
   "source": [
    "print(\"Recall:\")\n",
    "\n",
    "print(round(recall_score(testey, valor_knn)*100,2), \"%\", f\"Modelo {modelos[0]}\")\n",
    "print(round(recall_score(testey, valor_rfc)*100,2), \"%\", f\"Modelo {modelos[1]}\")\n",
    "print(round(recall_score(testey, valor_dtc)*100,2), \"%\", f\"Modelo {modelos[2]}\")\n",
    "print(round(recall_score(testey, valor_bnb)*100,2), \"%\", f\"Modelo {modelos[3]}\")\n",
    "print(round(recall_score(testey, valor_clf)*100,2), \"%\", f\"Modelo {modelos[4]}\")\n"
   ]
  }
 ],
 "metadata": {
  "kernelspec": {
   "display_name": "Python 3 (ipykernel)",
   "language": "python",
   "name": "python3"
  },
  "language_info": {
   "codemirror_mode": {
    "name": "ipython",
    "version": 3
   },
   "file_extension": ".py",
   "mimetype": "text/x-python",
   "name": "python",
   "nbconvert_exporter": "python",
   "pygments_lexer": "ipython3",
   "version": "3.9.15"
  }
 },
 "nbformat": 4,
 "nbformat_minor": 5
}
